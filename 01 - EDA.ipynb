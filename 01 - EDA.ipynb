{
 "cells": [
  {
   "cell_type": "code",
   "execution_count": 1,
   "id": "f653b8b6",
   "metadata": {
    "_cell_guid": "b1076dfc-b9ad-4769-8c92-a6c4dae69d19",
    "_uuid": "8f2839f25d086af736a60e9eeb907d3b93b6e0e5",
    "execution": {
     "iopub.execute_input": "2023-08-22T08:51:44.330327Z",
     "iopub.status.busy": "2023-08-22T08:51:44.329629Z",
     "iopub.status.idle": "2023-08-22T08:51:44.339846Z",
     "shell.execute_reply": "2023-08-22T08:51:44.339190Z"
    },
    "papermill": {
     "duration": 0.016036,
     "end_time": "2023-08-22T08:51:44.342015",
     "exception": false,
     "start_time": "2023-08-22T08:51:44.325979",
     "status": "completed"
    },
    "tags": []
   },
   "outputs": [],
   "source": [
    "# Input data files are available in the read-only \"../input/\" directory\n",
    "# For example, running this (by clicking run or pressing Shift+Enter) will list all files under the input directory\n",
    "\n",
    "import os\n",
    "for dirname, _, filenames in os.walk('/kaggle/input'):\n",
    "    for filename in filenames:\n",
    "        print(os.path.join(dirname, filename))\n",
    "\n",
    "# You can write up to 20GB to the current directory (/kaggle/working/) that gets preserved as output when you create a version using \"Save & Run All\" \n",
    "# You can also write temporary files to /kaggle/temp/, but they won't be saved outside of the current session"
   ]
  },
  {
   "cell_type": "code",
   "execution_count": 2,
   "id": "9da247a8",
   "metadata": {
    "execution": {
     "iopub.execute_input": "2023-08-22T08:51:44.347439Z",
     "iopub.status.busy": "2023-08-22T08:51:44.346932Z",
     "iopub.status.idle": "2023-08-22T08:52:23.256285Z",
     "shell.execute_reply": "2023-08-22T08:52:23.255095Z"
    },
    "papermill": {
     "duration": 38.914783,
     "end_time": "2023-08-22T08:52:23.258816",
     "exception": false,
     "start_time": "2023-08-22T08:51:44.344033",
     "status": "completed"
    },
    "tags": []
   },
   "outputs": [
    {
     "name": "stdout",
     "output_type": "stream",
     "text": [
      "Collecting pyspark\r\n",
      "  Downloading pyspark-3.4.1.tar.gz (310.8 MB)\r\n",
      "\u001b[2K     \u001b[90m━━━━━━━━━━━━━━━━━━━━━━━━━━━━━━━━━━━━━━━\u001b[0m \u001b[32m310.8/310.8 MB\u001b[0m \u001b[31m4.7 MB/s\u001b[0m eta \u001b[36m0:00:00\u001b[0m\r\n",
      "\u001b[?25h  Preparing metadata (setup.py) ... \u001b[?25l-\b \b\\\b \bdone\r\n",
      "\u001b[?25hRequirement already satisfied: py4j==0.10.9.7 in /opt/conda/lib/python3.10/site-packages (from pyspark) (0.10.9.7)\r\n",
      "Building wheels for collected packages: pyspark\r\n",
      "  Building wheel for pyspark (setup.py) ... \u001b[?25l-\b \b\\\b \b|\b \b/\b \b-\b \b\\\b \b|\b \b/\b \b-\b \b\\\b \bdone\r\n",
      "\u001b[?25h  Created wheel for pyspark: filename=pyspark-3.4.1-py2.py3-none-any.whl size=311285413 sha256=d52793fe8d04ad34a08d7b1bdc09e97876591748b70672449482a8c3b5ef43e0\r\n",
      "  Stored in directory: /root/.cache/pip/wheels/0d/77/a3/ff2f74cc9ab41f8f594dabf0579c2a7c6de920d584206e0834\r\n",
      "Successfully built pyspark\r\n",
      "Installing collected packages: pyspark\r\n",
      "Successfully installed pyspark-3.4.1\r\n"
     ]
    }
   ],
   "source": [
    "!pip install pyspark"
   ]
  },
  {
   "cell_type": "code",
   "execution_count": 3,
   "id": "80d24f46",
   "metadata": {
    "execution": {
     "iopub.execute_input": "2023-08-22T08:52:23.275143Z",
     "iopub.status.busy": "2023-08-22T08:52:23.274759Z",
     "iopub.status.idle": "2023-08-22T08:52:23.342285Z",
     "shell.execute_reply": "2023-08-22T08:52:23.340923Z"
    },
    "papermill": {
     "duration": 0.078652,
     "end_time": "2023-08-22T08:52:23.344525",
     "exception": false,
     "start_time": "2023-08-22T08:52:23.265873",
     "status": "completed"
    },
    "tags": []
   },
   "outputs": [],
   "source": [
    "import pyspark.sql.functions as f"
   ]
  },
  {
   "cell_type": "code",
   "execution_count": null,
   "id": "35747074",
   "metadata": {
    "papermill": {
     "duration": 0.006715,
     "end_time": "2023-08-22T08:52:23.358375",
     "exception": false,
     "start_time": "2023-08-22T08:52:23.351660",
     "status": "completed"
    },
    "tags": []
   },
   "outputs": [],
   "source": []
  }
 ],
 "metadata": {
  "kernelspec": {
   "display_name": "Python 3",
   "language": "python",
   "name": "python3"
  },
  "language_info": {
   "codemirror_mode": {
    "name": "ipython",
    "version": 3
   },
   "file_extension": ".py",
   "mimetype": "text/x-python",
   "name": "python",
   "nbconvert_exporter": "python",
   "pygments_lexer": "ipython3",
   "version": "3.10.12"
  },
  "papermill": {
   "default_parameters": {},
   "duration": 47.839106,
   "end_time": "2023-08-22T08:52:24.186024",
   "environment_variables": {},
   "exception": null,
   "input_path": "__notebook__.ipynb",
   "output_path": "__notebook__.ipynb",
   "parameters": {},
   "start_time": "2023-08-22T08:51:36.346918",
   "version": "2.4.0"
  }
 },
 "nbformat": 4,
 "nbformat_minor": 5
}
